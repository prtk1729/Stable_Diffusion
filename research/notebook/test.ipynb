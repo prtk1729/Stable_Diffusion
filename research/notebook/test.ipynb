{
 "cells": [
  {
   "cell_type": "markdown",
   "metadata": {},
   "source": [
    "#### Einsum Basics"
   ]
  },
  {
   "cell_type": "markdown",
   "metadata": {},
   "source": [
    "##### `rearrange`"
   ]
  },
  {
   "cell_type": "code",
   "execution_count": null,
   "metadata": {},
   "outputs": [
    {
     "name": "stdout",
     "output_type": "stream",
     "text": [
      "torch.Size([2, 196, 768])\n",
      "torch.Size([2, 196, 768])\n"
     ]
    }
   ],
   "source": [
    "import torch\n",
    "from einops import rearrange, repeat\n",
    "\n",
    "num_channels, height, width = 3, 224, 224\n",
    "num_height, num_width, patch_height, patch_width =  224//16, 224//16, 16, 16 # 14, 14, 16, 16\n",
    "\n",
    "batch_size = 2\n",
    "in_channels = 3\n",
    "x = torch.randn((batch_size, in_channels, height, width))\n",
    "\n",
    "# (B, C, H, W) -> (B, num_patches, embed_dim )\n",
    "# (B, C, H, W) -> (B, C, (nh ph) , (nw pw) ) [can be thought of] -> (B, C, nh, nw, ph, pw) -> (B, nh*nw, (ph * pw * C) ) equiv to (B, (nh nw) (ph pw C) )\n",
    "out = rearrange( tensor = x, \n",
    "                pattern = \"b c (nh ph) (nw pw) -> b (nh nw) (ph pw c)\",\n",
    "                c = in_channels,\n",
    "                b = batch_size,\n",
    "                ph = patch_height,\n",
    "                pw = patch_width\n",
    "                )\n",
    "\n",
    "print(out.shape) # (b, num_patches, dim = (3*ph*pw) ) -> (2, 14*14, 3*16*16)\n",
    "num_patch_h, num_patch_w = (height // patch_height), (width // patch_width)\n",
    "b, c, nh, ph, nw, pw = batch_size, in_channels, num_patch_h, patch_height, num_patch_w, patch_width\n",
    "out1 = x.reshape( b, c, nh, ph, nw, pw).permute(0, 5, 1, 3, 2, 4).reshape(b, nh*nw, ph*pw*c)\n",
    "print( out1.shape )"
   ]
  },
  {
   "cell_type": "markdown",
   "metadata": {},
   "source": [
    "#### `repeat`"
   ]
  },
  {
   "cell_type": "code",
   "execution_count": 8,
   "metadata": {},
   "outputs": [
    {
     "name": "stdout",
     "output_type": "stream",
     "text": [
      "torch.Size([]) torch.Size([5])\n",
      "tensor(1) tensor([1, 1, 1, 1, 1])\n"
     ]
    }
   ],
   "source": [
    "x = torch.tensor(1)\n",
    "out = x.repeat(5)\n",
    "print(x.shape, out.shape)\n",
    "print(x, out)"
   ]
  },
  {
   "cell_type": "code",
   "execution_count": 10,
   "metadata": {},
   "outputs": [
    {
     "name": "stdout",
     "output_type": "stream",
     "text": [
      "torch.Size([3]) torch.Size([2, 6])\n",
      "tensor([1, 2, 3])\n",
      "tensor([[1, 2, 3, 1, 2, 3],\n",
      "        [1, 2, 3, 1, 2, 3]])\n"
     ]
    }
   ],
   "source": [
    "x = torch.tensor([1, 2, 3])\n",
    "out = x.repeat( 2, 2 ) # dim0 = 2, dim1 = 2\n",
    "print(x.shape, out.shape)\n",
    "print(x)\n",
    "print(out)"
   ]
  },
  {
   "cell_type": "code",
   "execution_count": null,
   "metadata": {},
   "outputs": [
    {
     "name": "stdout",
     "output_type": "stream",
     "text": [
      "tensor([1, 2, 3])\n",
      "tensor([[[1, 2, 3, 1, 2, 3],\n",
      "         [1, 2, 3, 1, 2, 3]],\n",
      "\n",
      "        [[1, 2, 3, 1, 2, 3],\n",
      "         [1, 2, 3, 1, 2, 3]]])\n"
     ]
    }
   ],
   "source": [
    "x = torch.tensor([1, 2, 3])\n",
    "out = x.repeat( 2, 2, 2 ) # dim0 = 2, dim1 = 2, dim2 = 2\n",
    "print(x)\n",
    "print(out) # as expected!"
   ]
  },
  {
   "cell_type": "code",
   "execution_count": 13,
   "metadata": {},
   "outputs": [
    {
     "name": "stdout",
     "output_type": "stream",
     "text": [
      "torch.Size([2]) torch.Size([2, 4])\n",
      "tensor([1, 2])\n",
      "tensor([[1, 2, 1, 2],\n",
      "        [1, 2, 1, 2]])\n"
     ]
    }
   ],
   "source": [
    "x = torch.tensor([1, 2])\n",
    "out = x.repeat(2, 2)\n",
    "print(x.shape, out.shape)\n",
    "\n",
    "print(x)\n",
    "print(out)\n"
   ]
  },
  {
   "cell_type": "code",
   "execution_count": 14,
   "metadata": {},
   "outputs": [
    {
     "name": "stdout",
     "output_type": "stream",
     "text": [
      "torch.Size([2]) torch.Size([1, 4])\n",
      "tensor([1, 2])\n",
      "tensor([[1, 2, 1, 2]])\n"
     ]
    }
   ],
   "source": [
    "x = torch.tensor([1, 2])\n",
    "out = x.repeat(1, 2)\n",
    "print(x.shape, out.shape)\n",
    "\n",
    "print(x)\n",
    "print(out)"
   ]
  },
  {
   "cell_type": "code",
   "execution_count": 16,
   "metadata": {},
   "outputs": [
    {
     "name": "stdout",
     "output_type": "stream",
     "text": [
      "torch.Size([2]) torch.Size([2, 2])\n",
      "tensor([1, 2])\n",
      "tensor([[1, 2],\n",
      "        [1, 2]])\n"
     ]
    }
   ],
   "source": [
    "x = torch.tensor([1, 2])\n",
    "out = x.repeat(2, 1)\n",
    "print(x.shape, out.shape)\n",
    "\n",
    "print(x)\n",
    "print(out)"
   ]
  },
  {
   "cell_type": "code",
   "execution_count": 17,
   "metadata": {},
   "outputs": [
    {
     "name": "stdout",
     "output_type": "stream",
     "text": [
      "tensor([1, 2, 3])\n",
      "tensor([[1, 2, 3, 1, 2, 3],\n",
      "        [1, 2, 3, 1, 2, 3]])\n"
     ]
    }
   ],
   "source": [
    "x = torch.tensor([1, 2, 3])\n",
    "out = x.repeat(2, 2)\n",
    "print(x)\n",
    "print(out)"
   ]
  },
  {
   "cell_type": "code",
   "execution_count": 18,
   "metadata": {},
   "outputs": [
    {
     "name": "stdout",
     "output_type": "stream",
     "text": [
      "tensor([1, 2, 3])\n",
      "tensor([[1, 2, 3],\n",
      "        [1, 2, 3]])\n"
     ]
    }
   ],
   "source": [
    "x = torch.tensor([1, 2, 3])\n",
    "out = x.repeat(2, 1)\n",
    "print(x)\n",
    "print(out)"
   ]
  },
  {
   "cell_type": "code",
   "execution_count": 19,
   "metadata": {},
   "outputs": [
    {
     "name": "stdout",
     "output_type": "stream",
     "text": [
      "tensor([1, 2, 3])\n",
      "tensor([[1, 2, 3, 1, 2, 3]])\n"
     ]
    }
   ],
   "source": [
    "x = torch.tensor([1, 2, 3])\n",
    "out = x.repeat(1, 2)\n",
    "print(x)\n",
    "print(out)"
   ]
  },
  {
   "cell_type": "code",
   "execution_count": null,
   "metadata": {},
   "outputs": [],
   "source": []
  },
  {
   "cell_type": "code",
   "execution_count": null,
   "metadata": {},
   "outputs": [],
   "source": []
  },
  {
   "cell_type": "code",
   "execution_count": null,
   "metadata": {},
   "outputs": [],
   "source": []
  },
  {
   "cell_type": "code",
   "execution_count": null,
   "metadata": {},
   "outputs": [],
   "source": []
  },
  {
   "cell_type": "code",
   "execution_count": null,
   "metadata": {},
   "outputs": [],
   "source": []
  },
  {
   "cell_type": "code",
   "execution_count": null,
   "metadata": {},
   "outputs": [],
   "source": []
  },
  {
   "cell_type": "code",
   "execution_count": null,
   "metadata": {},
   "outputs": [],
   "source": []
  },
  {
   "cell_type": "code",
   "execution_count": null,
   "metadata": {},
   "outputs": [],
   "source": []
  }
 ],
 "metadata": {
  "kernelspec": {
   "display_name": "base",
   "language": "python",
   "name": "python3"
  },
  "language_info": {
   "codemirror_mode": {
    "name": "ipython",
    "version": 3
   },
   "file_extension": ".py",
   "mimetype": "text/x-python",
   "name": "python",
   "nbconvert_exporter": "python",
   "pygments_lexer": "ipython3",
   "version": "3.12.4"
  }
 },
 "nbformat": 4,
 "nbformat_minor": 2
}
