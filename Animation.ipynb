{
 "cells": [
  {
   "cell_type": "code",
   "execution_count": 1,
   "id": "f82571aa-c14b-4f1b-8657-2d24ec0cbaa5",
   "metadata": {},
   "outputs": [],
   "source": [
    "import torch\n",
    "import torch.nn as nn\n",
    "import numpy as np\n",
    "from tqdm import tqdm\n",
    "from keras.datasets.mnist import load_data\n",
    "\n",
    "from unet import UNet\n",
    "from diffusion_model import DiffusionModel\n",
    "import matplotlib.pyplot as plt\n",
    "\n",
    "import imageio"
   ]
  },
  {
   "cell_type": "code",
   "execution_count": 2,
   "id": "15db2e32-8a5f-4097-8454-77ed8bc59c66",
   "metadata": {},
   "outputs": [],
   "source": [
    "(trainX, trainy), (testX, testy) = load_data()\n",
    "trainX = np.float32(trainX) / 255.\n",
    "testX = np.float32(testX) / 255.\n",
    "\n",
    "def sample_batch(batch_size, device):\n",
    "    indices = torch.randperm(trainX.shape[0])[:batch_size]\n",
    "    data = torch.from_numpy(trainX[indices]).unsqueeze(1).to(device)\n",
    "    return torch.nn.functional.interpolate(data, 32)"
   ]
  },
  {
   "cell_type": "code",
   "execution_count": 3,
   "id": "1d236f1a-93d6-4a9b-a869-c943808d62a5",
   "metadata": {},
   "outputs": [],
   "source": [
    "device = 'cuda'\n",
    "model = torch.load('model_paper2_epoch_39999').to(device)\n",
    "diffusion_model = DiffusionModel(1000, model, device)"
   ]
  },
  {
   "cell_type": "code",
   "execution_count": 4,
   "id": "f4e765c8-c086-48c0-a845-0895021b2feb",
   "metadata": {},
   "outputs": [],
   "source": [
    "@torch.no_grad()\n",
    "def sampling(self, n_samples=1, image_channels=1, img_size=(32, 32), use_tqdm=True):\n",
    "\n",
    "    \n",
    "    x = torch.randn((n_samples, image_channels, img_size[0], img_size[1]), \n",
    "                     device=self.device)\n",
    "\n",
    "    all_x = [x]\n",
    "    progress_bar = tqdm if use_tqdm else lambda x : x\n",
    "    for t in progress_bar(range(self.T, 0, -1)):\n",
    "        z = torch.randn_like(x) if t > 1 else torch.zeros_like(x)\n",
    "\n",
    "        t = torch.ones(n_samples, dtype=torch.long, device=self.device) * t \n",
    "\n",
    "        beta_t = self.beta[t-1].unsqueeze(-1).unsqueeze(-1).unsqueeze(-1)\n",
    "        alpha_t = self.alpha[t-1].unsqueeze(-1).unsqueeze(-1).unsqueeze(-1)\n",
    "        alpha_bar_t = self.alpha_bar[t-1].unsqueeze(-1).unsqueeze(-1).unsqueeze(-1)\n",
    "\n",
    "        mean = 1 / torch.sqrt(alpha_t) * (x - ((1 - alpha_t) / torch.sqrt(\n",
    "            1 - alpha_bar_t)) * self.function_approximator(x, t-1))\n",
    "        sigma = torch.sqrt(beta_t)\n",
    "        x = mean + sigma * z\n",
    "        all_x.append(x)\n",
    "\n",
    "    return all_x"
   ]
  },
  {
   "cell_type": "code",
   "execution_count": 5,
   "id": "0a30d32c-0c07-43b0-b078-1faa6e6996f8",
   "metadata": {},
   "outputs": [
    {
     "name": "stderr",
     "output_type": "stream",
     "text": [
      "100%|██████████| 1000/1000 [00:17<00:00, 56.15it/s]\n"
     ]
    }
   ],
   "source": [
    "imgs = sampling(diffusion_model, n_samples=10)"
   ]
  },
  {
   "cell_type": "code",
   "execution_count": 51,
   "id": "6a9e3a34-cce9-42fb-b4ca-075b51bef537",
   "metadata": {},
   "outputs": [],
   "source": [
    "indices = (1.1**np.linspace(0, 73, 80, dtype=int)).astype(int)\n",
    "indices = np.array(sorted(list(set(list(indices))))).clip(1, 1000)\n",
    "indices = 1001 - indices\n",
    "indices = sorted(indices)\n",
    "idx = 1"
   ]
  },
  {
   "cell_type": "code",
   "execution_count": 53,
   "id": "55d4f56f-c611-4810-b8cf-2b8276c21e2b",
   "metadata": {},
   "outputs": [],
   "source": [
    "imgs_np = [(e[idx].clip(0, 1).squeeze(0).cpu().numpy() * 255).astype(np.uint8) for e in imgs]\n",
    "imgs_np = np.array(imgs_np)[indices]"
   ]
  },
  {
   "cell_type": "code",
   "execution_count": 54,
   "id": "6423ce45-58e8-4b2a-bc8a-803d6d7190dd",
   "metadata": {},
   "outputs": [
    {
     "data": {
      "text/plain": [
       "(58, 32, 32)"
      ]
     },
     "execution_count": 54,
     "metadata": {},
     "output_type": "execute_result"
    }
   ],
   "source": [
    "imgs_np.shape"
   ]
  },
  {
   "cell_type": "code",
   "execution_count": 55,
   "id": "4236dc22-dd88-4bb5-aac4-0286395084aa",
   "metadata": {},
   "outputs": [],
   "source": [
    "imageio.mimsave('movie.gif', imgs_np)"
   ]
  },
  {
   "cell_type": "code",
   "execution_count": 56,
   "id": "6ca3f38b-15cc-4de7-b4bd-225ce40d4814",
   "metadata": {},
   "outputs": [],
   "source": [
    "imageio.mimsave('movie.mp4', imgs_np)"
   ]
  },
  {
   "cell_type": "code",
   "execution_count": null,
   "id": "3faefbf2-934c-4f06-b33b-4c6cda827677",
   "metadata": {},
   "outputs": [],
   "source": []
  }
 ],
 "metadata": {
  "kernelspec": {
   "display_name": "Python 3 (ipykernel)",
   "language": "python",
   "name": "python3"
  },
  "language_info": {
   "codemirror_mode": {
    "name": "ipython",
    "version": 3
   },
   "file_extension": ".py",
   "mimetype": "text/x-python",
   "name": "python",
   "nbconvert_exporter": "python",
   "pygments_lexer": "ipython3",
   "version": "3.9.16"
  }
 },
 "nbformat": 4,
 "nbformat_minor": 5
}
